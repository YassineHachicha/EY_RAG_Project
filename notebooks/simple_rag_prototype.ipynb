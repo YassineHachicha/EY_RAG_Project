{
 "cells": [
  {
   "cell_type": "markdown",
   "id": "08cb0691",
   "metadata": {},
   "source": [
    "# 🔍 Simple RAG System – FAISS + SentenceTransformer"
   ]
  },
  {
   "cell_type": "markdown",
   "id": "cf7b3723",
   "metadata": {},
   "source": [
    "## 1. Charger et découper le texte en chunks"
   ]
  },
  {
   "cell_type": "code",
   "execution_count": 7,
   "id": "0d777e32",
   "metadata": {},
   "outputs": [
    {
     "name": "stdout",
     "output_type": "stream",
     "text": [
      "753 chunks créés.\n",
      "Basel Committee  on Banking Supervision   Basel III: A global   regulatory framework for   more resilient banks and   banking systems  December 2010  (rev June 2011)                                                                                               Copies of publications  are available\n"
     ]
    }
   ],
   "source": [
    "from pathlib import Path\n",
    "import textwrap\n",
    "\n",
    "# Charger le texte\n",
    "with open('rag_doc_clean.txt', 'r', encoding='utf-8') as f:\n",
    "    full_text = f.read()\n",
    "\n",
    "# Chunking (~300 caractères)\n",
    "chunks = textwrap.wrap(full_text, width=300)\n",
    "print(f\"{len(chunks)} chunks créés.\")\n",
    "print(chunks[0])"
   ]
  },
  {
   "cell_type": "markdown",
   "id": "24eb4b48",
   "metadata": {},
   "source": [
    "## 2. Génération des embeddings avec SentenceTransformer"
   ]
  },
  {
   "cell_type": "code",
   "execution_count": 8,
   "id": "42ce72f1",
   "metadata": {},
   "outputs": [
    {
     "name": "stdout",
     "output_type": "stream",
     "text": [
      "753 vecteurs générés.\n",
      "[ 0.03424797 -0.10494245 -0.06773275  0.05248769  0.05284438]\n"
     ]
    }
   ],
   "source": [
    "from sentence_transformers import SentenceTransformer\n",
    "\n",
    "model = SentenceTransformer('all-MiniLM-L6-v2')\n",
    "embeddings = model.encode(chunks)\n",
    "print(f\"{len(embeddings)} vecteurs générés.\")\n",
    "print(embeddings[0][:5])"
   ]
  },
  {
   "cell_type": "markdown",
   "id": "818fe172",
   "metadata": {},
   "source": [
    "## 3. Indexation FAISS des embeddings"
   ]
  },
  {
   "cell_type": "code",
   "execution_count": 9,
   "id": "6e1fe6f4",
   "metadata": {},
   "outputs": [
    {
     "name": "stdout",
     "output_type": "stream",
     "text": [
      "Index FAISS construit avec 753 vecteurs.\n"
     ]
    }
   ],
   "source": [
    "import faiss\n",
    "import numpy as np\n",
    "import os\n",
    "\n",
    "embedding_dim = len(embeddings[0])\n",
    "embedding_matrix = np.array(embeddings).astype('float32')\n",
    "\n",
    "index = faiss.IndexFlatL2(embedding_dim)\n",
    "index.add(embedding_matrix)\n",
    "\n",
    "os.makedirs('faiss_index', exist_ok=True)\n",
    "faiss.write_index(index, 'faiss_index/rag_index.idx')\n",
    "print(f\"Index FAISS construit avec {index.ntotal} vecteurs.\")"
   ]
  },
  {
   "cell_type": "markdown",
   "id": "e12a71f6",
   "metadata": {},
   "source": [
    "## 4. Requête utilisateur et recherche de passages pertinents"
   ]
  },
  {
   "cell_type": "code",
   "execution_count": 10,
   "id": "d5d6d46d",
   "metadata": {},
   "outputs": [
    {
     "name": "stdout",
     "output_type": "stream",
     "text": [
      "🔎 Top résultats :\n",
      "\n",
      "--- Passage pertinent ---\n",
      "\n",
      "an investment in a specific assessed issue, the following  general principles apply.   In circumstances where the borrower has aspecific as sessment for an  issued debt Œ but the bank™s claim is not an investment in this particular  debt Œ a high quality credit assessment (one which maps into a risk\n",
      "\n",
      "--- Passage pertinent ---\n",
      "\n",
      "risk models, including  backtesti ng, must be reviewed periodically by a level of management wit h   sufficient authority to decide thecourse of ac tion thatwill be taken to   address weaknesses inthe models.  43. Banks must document the process for initial and on-going validation of their   IMM\n",
      "\n",
      "--- Passage pertinent ---\n",
      "\n",
      "risk. Based on this  assessment they willput in pl ace a countercyclical buffer requirement when    58  Basel III: Aglobal regulatory framewor kfor  more resilient banks and banking systems   circumstances warrant. This requirement  will be releasedwhen system-wide risk   crystallises or dissipates\n"
     ]
    }
   ],
   "source": [
    "# Question utilisateur\n",
    "user_question = \"What are the conditions required to approve a high-risk loan?\"\n",
    "\n",
    "# Embedding + recherche\n",
    "query_vector = model.encode([user_question]).astype('float32')\n",
    "D, I = index.search(query_vector, k=3)\n",
    "\n",
    "# Affichage des résultats\n",
    "print(\"🔎 Top résultats :\")\n",
    "for idx in I[0]:\n",
    "    print(\"\\n--- Passage pertinent ---\\n\")\n",
    "    print(chunks[idx])"
   ]
  },
  {
   "cell_type": "markdown",
   "id": "09bb6ad7",
   "metadata": {},
   "source": [
    "## 5. Construction du prompt pour GPT"
   ]
  },
  {
   "cell_type": "code",
   "execution_count": 11,
   "id": "92cce4e6",
   "metadata": {},
   "outputs": [
    {
     "name": "stdout",
     "output_type": "stream",
     "text": [
      "📄 Prompt généré pour LLM :\n",
      "You are a regulatory assistant.\n",
      "\n",
      "Context:\n",
      "an investment in a specific assessed issue, the following  general principles apply.   In circumstances where the borrower has aspecific as sessment for an  issued debt Œ but the bank™s claim is not an investment in this particular  debt Œ a high quality credit assessment (one which maps into a risk\n",
      "\n",
      "risk models, including  backtesti ng, must be reviewed periodically by a level of management wit h   sufficient authority to decide thecourse of ac tion thatwill be taken to   address weaknesses inthe models.  43. Banks must document the process for initial and on-going validation of their   IMM\n",
      "\n",
      "risk. Based on this  assessment they willput in pl ace a countercyclical buffer requirement when    58  Basel III: Aglobal regulatory framewor kfor  more resilient banks and banking systems   circumstances warrant. This requirement  will be releasedwhen system-wide risk   crystallises or dissipates\n",
      "\n",
      "Question:\n",
      "What are the conditions required to approve a high-risk loan?\n",
      "\n",
      "Answer in a clear, concise way using only the context above.\n",
      "\n"
     ]
    }
   ],
   "source": [
    "retrieved_passages = [chunks[i] for i in I[0]]\n",
    "context = \"\\n\\n\".join(retrieved_passages)\n",
    "\n",
    "prompt = f\"\"\"You are a regulatory assistant.\n",
    "\n",
    "Context:\n",
    "{context}\n",
    "\n",
    "Question:\n",
    "{user_question}\n",
    "\n",
    "Answer in a clear, concise way using only the context above.\n",
    "\"\"\"\n",
    "\n",
    "print(\"📄 Prompt généré pour LLM :\")\n",
    "print(prompt)"
   ]
  },
  {
   "cell_type": "code",
   "execution_count": 12,
   "id": "1f3f0589",
   "metadata": {},
   "outputs": [],
   "source": [
    "# Sauvegarde le prompt dans un fichier texte\n",
    "with open(\"generated_prompt.txt\", \"w\", encoding=\"utf-8\") as f:\n",
    "    f.write(prompt)\n"
   ]
  }
 ],
 "metadata": {
  "kernelspec": {
   "display_name": "venv",
   "language": "python",
   "name": "python3"
  },
  "language_info": {
   "codemirror_mode": {
    "name": "ipython",
    "version": 3
   },
   "file_extension": ".py",
   "mimetype": "text/x-python",
   "name": "python",
   "nbconvert_exporter": "python",
   "pygments_lexer": "ipython3",
   "version": "3.11.7"
  }
 },
 "nbformat": 4,
 "nbformat_minor": 5
}
